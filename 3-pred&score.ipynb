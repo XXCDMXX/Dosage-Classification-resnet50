{
 "cells": [
  {
   "cell_type": "code",
   "source": [
    "from google.colab import drive\n",
    "drive.mount('/content/drive')"
   ],
   "metadata": {
    "colab": {
     "base_uri": "https://localhost:8080/"
    },
    "id": "Exv375BKjkTJ",
    "executionInfo": {
     "status": "ok",
     "timestamp": 1715416356167,
     "user_tz": -480,
     "elapsed": 19295,
     "user": {
      "displayName": "DM C",
      "userId": "17633321491189520950"
     }
    },
    "outputId": "5b7e220d-d0a2-4ed7-af54-29fad32e9204"
   },
   "id": "Exv375BKjkTJ",
   "execution_count": 1,
   "outputs": [
    {
     "output_type": "stream",
     "name": "stdout",
     "text": [
      "Mounted at /content/drive\n"
     ]
    }
   ]
  },
  {
   "cell_type": "code",
   "execution_count": 2,
   "id": "d7470685fb93d16d",
   "metadata": {
    "ExecuteTime": {
     "end_time": "2024-05-09T04:23:02.860115Z",
     "start_time": "2024-05-09T04:22:58.000150Z"
    },
    "id": "d7470685fb93d16d",
    "executionInfo": {
     "status": "ok",
     "timestamp": 1715416364790,
     "user_tz": -480,
     "elapsed": 6523,
     "user": {
      "displayName": "DM C",
      "userId": "17633321491189520950"
     }
    }
   },
   "outputs": [],
   "source": [
    "from torchvision import transforms\n",
    "import os\n",
    "import torch\n",
    "from PIL import Image\n",
    "\n",
    "test_transform = transforms.Compose([transforms.Resize(256),\n",
    "                                     transforms.CenterCrop(224),\n",
    "                                     transforms.ToTensor(),\n",
    "                                     transforms.Normalize(\n",
    "                                         mean=[0.485, 0.456, 0.406],\n",
    "                                         std=[0.229, 0.224, 0.225])\n",
    "                                     ])\n",
    "folder_path = '/content/drive/MyDrive/Colab Notebooks/test'"
   ]
  },
  {
   "cell_type": "code",
   "execution_count": 3,
   "id": "5a9ef989282266a8",
   "metadata": {
    "ExecuteTime": {
     "end_time": "2024-05-09T05:02:14.139458Z",
     "start_time": "2024-05-09T05:02:10.726731Z"
    },
    "colab": {
     "base_uri": "https://localhost:8080/"
    },
    "id": "5a9ef989282266a8",
    "executionInfo": {
     "status": "ok",
     "timestamp": 1715416386064,
     "user_tz": -480,
     "elapsed": 21278,
     "user": {
      "displayName": "DM C",
      "userId": "17633321491189520950"
     }
    },
    "outputId": "a5f86e5c-d0dc-4c03-837a-f6be64fade8b"
   },
   "outputs": [
    {
     "output_type": "stream",
     "name": "stdout",
     "text": [
      "Using device: cuda:0\n"
     ]
    },
    {
     "output_type": "execute_result",
     "data": {
      "text/plain": [
       "0.008114099502563477"
      ]
     },
     "metadata": {},
     "execution_count": 3
    }
   ],
   "source": [
    "results = []\n",
    "if torch.cuda.is_available():\n",
    "    device = torch.device(\"cuda:0\")\n",
    "else:\n",
    "    device = torch.device(\"cpu\")\n",
    "print(f\"Using device: {device}\")\n",
    "import time\n",
    "model = torch.load('/content/drive/MyDrive/Colab Notebooks/checkpoint/full-image-last-1.000.pth').to(device)\n",
    "for filename in os.listdir(folder_path):\n",
    "    if filename.endswith(\".png\"):\n",
    "        img_path = os.path.join(folder_path, filename)\n",
    "        img = Image.open(img_path)\n",
    "        img = img.convert('RGB')\n",
    "        x = test_transform(img)\n",
    "        x = x.unsqueeze(0).to(device)\n",
    "        #  predict\n",
    "        st = time.time()\n",
    "        with torch.no_grad():\n",
    "            predictions = model(x)\n",
    "        _, predicted = torch.max(predictions.data, 1)\n",
    "        results.append((filename, predicted.item()))\n",
    "        et = time.time()\n",
    "et - st"
   ]
  },
  {
   "cell_type": "code",
   "execution_count": 4,
   "id": "4f16403bb653834",
   "metadata": {
    "ExecuteTime": {
     "end_time": "2024-05-09T05:04:57.594920Z",
     "start_time": "2024-05-09T05:04:57.590814Z"
    },
    "id": "4f16403bb653834",
    "executionInfo": {
     "status": "ok",
     "timestamp": 1715416392622,
     "user_tz": -480,
     "elapsed": 345,
     "user": {
      "displayName": "DM C",
      "userId": "17633321491189520950"
     }
    }
   },
   "outputs": [],
   "source": [
    "import re\n",
    "\n",
    "results = [(x[0], x[1] + 1) for x in results]\n",
    "sorted_list = sorted(results, key=lambda x: int(re.search(r'\\d+', x[0]).group()))\n",
    "\n",
    "sorted_list_desc = sorted(results, key=lambda x: int(re.search(r'\\d+', x[0]).group()))"
   ]
  },
  {
   "cell_type": "code",
   "execution_count": 5,
   "id": "ed40a6248a9c5571",
   "metadata": {
    "ExecuteTime": {
     "end_time": "2024-05-09T05:04:58.345771Z",
     "start_time": "2024-05-09T05:04:58.337286Z"
    },
    "colab": {
     "base_uri": "https://localhost:8080/"
    },
    "id": "ed40a6248a9c5571",
    "executionInfo": {
     "status": "ok",
     "timestamp": 1715416394060,
     "user_tz": -480,
     "elapsed": 8,
     "user": {
      "displayName": "DM C",
      "userId": "17633321491189520950"
     }
    },
    "outputId": "be5cb757-5313-4614-e22c-a4646b51a5d4"
   },
   "outputs": [
    {
     "output_type": "execute_result",
     "data": {
      "text/plain": [
       "[('1.png', 1),\n",
       " ('2.png', 2),\n",
       " ('3.png', 1),\n",
       " ('4.png', 5),\n",
       " ('5.png', 5),\n",
       " ('6.png', 2),\n",
       " ('7.png', 3),\n",
       " ('8.png', 1),\n",
       " ('9.png', 3),\n",
       " ('10.png', 3),\n",
       " ('11.png', 5),\n",
       " ('12.png', 5),\n",
       " ('13.png', 1),\n",
       " ('14.png', 4),\n",
       " ('15.png', 2),\n",
       " ('16.png', 2),\n",
       " ('17.png', 2),\n",
       " ('18.png', 4),\n",
       " ('19.png', 5),\n",
       " ('20.png', 4),\n",
       " ('21.png', 5),\n",
       " ('22.png', 2),\n",
       " ('23.png', 4),\n",
       " ('24.png', 1),\n",
       " ('25.png', 5),\n",
       " ('26.png', 4),\n",
       " ('27.png', 5),\n",
       " ('28.png', 2),\n",
       " ('29.png', 2),\n",
       " ('30.png', 4),\n",
       " ('31.png', 3),\n",
       " ('32.png', 3),\n",
       " ('33.png', 3),\n",
       " ('34.png', 3),\n",
       " ('35.png', 1),\n",
       " ('36.png', 3),\n",
       " ('37.png', 3),\n",
       " ('38.png', 5),\n",
       " ('39.png', 1),\n",
       " ('40.png', 1),\n",
       " ('41.png', 5),\n",
       " ('42.png', 3),\n",
       " ('43.png', 4),\n",
       " ('44.png', 2),\n",
       " ('45.png', 5),\n",
       " ('46.png', 3),\n",
       " ('47.png', 1),\n",
       " ('48.png', 4),\n",
       " ('49.png', 2),\n",
       " ('50.png', 3)]"
      ]
     },
     "metadata": {},
     "execution_count": 5
    }
   ],
   "source": [
    "sorted_list_desc"
   ]
  },
  {
   "cell_type": "code",
   "execution_count": 10,
   "id": "3a097f07-a0c2-439c-ae6c-75363689249c",
   "metadata": {
    "colab": {
     "base_uri": "https://localhost:8080/"
    },
    "id": "3a097f07-a0c2-439c-ae6c-75363689249c",
    "executionInfo": {
     "status": "ok",
     "timestamp": 1715416512418,
     "user_tz": -480,
     "elapsed": 437,
     "user": {
      "displayName": "DM C",
      "userId": "17633321491189520950"
     }
    },
    "outputId": "4eb3566f-f245-471d-e49d-70c02006851c"
   },
   "outputs": [
    {
     "output_type": "stream",
     "name": "stdout",
     "text": [
      "The agreement rate is 0.84\n"
     ]
    }
   ],
   "source": [
    "import json\n",
    "\n",
    "def submit_to_json(resultlist, stuId):\n",
    "    predictresult = []\n",
    "    for image_name, label in resultlist:\n",
    "        predictresult.append({\n",
    "            \"title\": image_name,\n",
    "            \"answer\": str(label),\n",
    "            \"score\": float(0.0)\n",
    "        })\n",
    "\n",
    "    submit_data = {\"stuId\": stuId, \"answers\": predictresult}\n",
    "    with open(\"/content/drive/MyDrive/Colab Notebooks/pred_results.json\", \"w\", encoding='utf-8') as file:\n",
    "        json.dump(submit_data, file, ensure_ascii=False)\n",
    "\n",
    "submit_to_json(resultlist=sorted_list_desc, stuId=3122009322)\n",
    "\n",
    "\n",
    "with open('/content/drive/MyDrive/Colab Notebooks/label.json') as f1:\n",
    "    data1 = json.load(f1)\n",
    "\n",
    "with open('/content/drive/MyDrive/Colab Notebooks/pred_results.json') as f2:\n",
    "    data2 = json.load(f2)\n",
    "\n",
    "answers1 = [answer['answer'] for answer in data1['answers']]\n",
    "answers2 = [answer['answer'] for answer in data2['answers']]\n",
    "\n",
    "agreement_rate = sum(a1 == a2 for a1, a2 in zip(answers1, answers2)) / len(answers1)\n",
    "print(f'The agreement rate is {agreement_rate:.2f}')"
   ]
  }
 ],
 "metadata": {
  "kernelspec": {
   "display_name": "Python 3",
   "name": "python3"
  },
  "language_info": {
   "codemirror_mode": {
    "name": "ipython",
    "version": 3
   },
   "file_extension": ".py",
   "mimetype": "text/x-python",
   "name": "python",
   "nbconvert_exporter": "python",
   "pygments_lexer": "ipython3",
   "version": "3.8.19"
  },
  "colab": {
   "provenance": [],
   "gpuType": "A100",
   "machine_shape": "hm"
  },
  "accelerator": "GPU"
 },
 "nbformat": 4,
 "nbformat_minor": 5
}
