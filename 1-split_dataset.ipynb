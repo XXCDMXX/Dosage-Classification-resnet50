{
 "cells": [
  {
   "metadata": {},
   "cell_type": "code",
   "outputs": [],
   "execution_count": null,
   "source": [
    "import os\n",
    "import shutil\n",
    "import random\n",
    "import pandas as pd"
   ],
   "id": "ba11a4c8f86f2431"
  },
  {
   "cell_type": "code",
   "source": [
    "from google.colab import drive\n",
    "drive.mount('/content/drive')"
   ],
   "metadata": {
    "colab": {
     "base_uri": "https://localhost:8080/"
    },
    "id": "VSvK7iKfTyGZ",
    "executionInfo": {
     "status": "ok",
     "timestamp": 1715358346021,
     "user_tz": -480,
     "elapsed": 5831,
     "user": {
      "displayName": "DM C",
      "userId": "17633321491189520950"
     }
    },
    "outputId": "8dd65dd9-4285-4105-8bb4-35d12a677d9a",
    "ExecuteTime": {
     "end_time": "2024-05-12T15:32:27.456893Z",
     "start_time": "2024-05-12T15:32:27.200079Z"
    }
   },
   "id": "VSvK7iKfTyGZ",
   "outputs": [
    {
     "ename": "ModuleNotFoundError",
     "evalue": "No module named 'google.colab'",
     "output_type": "error",
     "traceback": [
      "\u001B[1;31m---------------------------------------------------------------------------\u001B[0m",
      "\u001B[1;31mModuleNotFoundError\u001B[0m                       Traceback (most recent call last)",
      "Cell \u001B[1;32mIn[1], line 1\u001B[0m\n\u001B[1;32m----> 1\u001B[0m \u001B[38;5;28;01mfrom\u001B[39;00m \u001B[38;5;21;01mgoogle\u001B[39;00m\u001B[38;5;21;01m.\u001B[39;00m\u001B[38;5;21;01mcolab\u001B[39;00m \u001B[38;5;28;01mimport\u001B[39;00m drive\n\u001B[0;32m      2\u001B[0m drive\u001B[38;5;241m.\u001B[39mmount(\u001B[38;5;124m'\u001B[39m\u001B[38;5;124m/content/drive\u001B[39m\u001B[38;5;124m'\u001B[39m)\n",
      "\u001B[1;31mModuleNotFoundError\u001B[0m: No module named 'google.colab'"
     ]
    }
   ],
   "execution_count": 1
  },
  {
   "cell_type": "code",
   "id": "512a0bda-f31f-4f26-b727-85369eebca48",
   "metadata": {
    "ExecuteTime": {
     "end_time": "2024-05-09T06:46:09.025329Z",
     "start_time": "2024-05-09T06:46:09.015399Z"
    },
    "colab": {
     "base_uri": "https://localhost:8080/"
    },
    "id": "512a0bda-f31f-4f26-b727-85369eebca48",
    "executionInfo": {
     "status": "ok",
     "timestamp": 1715358396989,
     "user_tz": -480,
     "elapsed": 5,
     "user": {
      "displayName": "DM C",
      "userId": "17633321491189520950"
     }
    },
    "outputId": "3f45b322-a5f3-4a91-cbd9-36b04681ccd4"
   },
   "source": [
    "dataset_path = '/content/drive/MyDrive/Colab Notebooks/train'\n",
    "dataset_name = dataset_path.split('_')[0]\n",
    "print('原始数据集:', dataset_name)\n",
    "classes = os.listdir(dataset_path)\n",
    "print('原始数据集类别数:', len(classes))\n",
    "classes"
   ],
   "outputs": [
    {
     "output_type": "stream",
     "name": "stdout",
     "text": [
      "原始数据集: /content/drive/MyDrive/Colab Notebooks/train\n",
      "原始数据集类别数: 5\n"
     ]
    },
    {
     "output_type": "execute_result",
     "data": {
      "text/plain": [
       "['4', '3', '1', '2', '5']"
      ]
     },
     "metadata": {},
     "execution_count": 5
    }
   ],
   "execution_count": 5
  },
  {
   "cell_type": "code",
   "id": "522222b5-9128-420d-a134-fb0b4cdc38ca",
   "metadata": {
    "ExecuteTime": {
     "end_time": "2024-05-09T06:46:09.059368Z",
     "start_time": "2024-05-09T06:46:09.026719Z"
    },
    "id": "522222b5-9128-420d-a134-fb0b4cdc38ca",
    "executionInfo": {
     "status": "ok",
     "timestamp": 1715358400852,
     "user_tz": -480,
     "elapsed": 393,
     "user": {
      "displayName": "DM C",
      "userId": "17633321491189520950"
     }
    }
   },
   "source": [
    "os.mkdir(os.path.join(dataset_path, 'train'))\n",
    "os.mkdir(os.path.join(dataset_path, 'val'))\n",
    "\n",
    "for img in classes:\n",
    "    os.mkdir(os.path.join(dataset_path, 'train', img))\n",
    "    os.mkdir(os.path.join(dataset_path, 'val', img))"
   ],
   "outputs": [],
   "execution_count": 6
  },
  {
   "cell_type": "code",
   "id": "3ef9944c-a36d-4d62-a38b-78faa33fb9f1",
   "metadata": {
    "ExecuteTime": {
     "end_time": "2024-05-09T06:46:12.263598Z",
     "start_time": "2024-05-09T06:46:09.062077Z"
    },
    "id": "3ef9944c-a36d-4d62-a38b-78faa33fb9f1",
    "executionInfo": {
     "status": "ok",
     "timestamp": 1715358404353,
     "user_tz": -480,
     "elapsed": 2168,
     "user": {
      "displayName": "DM C",
      "userId": "17633321491189520950"
     }
    }
   },
   "source": [
    "test_frac = 0.2  #  测试集比例\n",
    "random.seed(123)\n",
    "\n",
    "df = pd.DataFrame()\n",
    "\n",
    "for img in classes:\n",
    "    old_dir = os.path.join(dataset_path, img)\n",
    "    images_filename = os.listdir(old_dir)\n",
    "    random.shuffle(images_filename)\n",
    "\n",
    "    testset_numer = int(len(images_filename) * test_frac)\n",
    "    testset_images = images_filename[:testset_numer]\n",
    "    trainset_images = images_filename[testset_numer:]\n",
    "\n",
    "    for image in testset_images:\n",
    "        old_img_path = os.path.join(dataset_path, img, image)\n",
    "        new_test_path = os.path.join(dataset_path, 'val', img, image)\n",
    "        shutil.move(old_img_path, new_test_path)\n",
    "\n",
    "    for image in trainset_images:\n",
    "        old_img_path = os.path.join(dataset_path, img, image)\n",
    "        new_train_path = os.path.join(dataset_path, 'train', img, image)\n",
    "        shutil.move(old_img_path, new_train_path)\n",
    "\n",
    "    #  删除旧文件夹\n",
    "    assert len(os.listdir(old_dir)) == 0\n",
    "    shutil.rmtree(old_dir)\n",
    "\n",
    "    df = df._append({'class': img, 'trainset': len(trainset_images), 'testset': len(testset_images)}, ignore_index=True)\n",
    "\n",
    "shutil.move(dataset_path, dataset_name + '_split')\n",
    "df['total'] = df['trainset'] + df['testset']"
   ],
   "outputs": [],
   "execution_count": 7
  },
  {
   "cell_type": "code",
   "id": "2ca80db6-9537-4203-9e1c-8873c473a95c",
   "metadata": {
    "colab": {
     "base_uri": "https://localhost:8080/",
     "height": 206
    },
    "id": "2ca80db6-9537-4203-9e1c-8873c473a95c",
    "executionInfo": {
     "status": "ok",
     "timestamp": 1715358404355,
     "user_tz": -480,
     "elapsed": 9,
     "user": {
      "displayName": "DM C",
      "userId": "17633321491189520950"
     }
    },
    "outputId": "3e960d8c-32eb-46b5-c6d1-022de74eafa0"
   },
   "source": [
    "df"
   ],
   "outputs": [],
   "execution_count": null
  },
  {
   "cell_type": "code",
   "source": [],
   "metadata": {
    "id": "_JTfPLqvVAa5"
   },
   "id": "_JTfPLqvVAa5",
   "execution_count": null,
   "outputs": []
  }
 ],
 "metadata": {
  "kernelspec": {
   "display_name": "Python 3 (ipykernel)",
   "language": "python",
   "name": "python3"
  },
  "language_info": {
   "codemirror_mode": {
    "name": "ipython",
    "version": 3
   },
   "file_extension": ".py",
   "mimetype": "text/x-python",
   "name": "python",
   "nbconvert_exporter": "python",
   "pygments_lexer": "ipython3",
   "version": "3.7.10"
  },
  "colab": {
   "provenance": []
  }
 },
 "nbformat": 4,
 "nbformat_minor": 5
}
