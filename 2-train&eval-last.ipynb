{
 "cells": [
  {
   "cell_type": "code",
   "source": [
    "from google.colab import drive\n",
    "drive.mount('/content/drive')"
   ],
   "metadata": {
    "colab": {
     "base_uri": "https://localhost:8080/"
    },
    "id": "fGNGp9nQofKY",
    "executionInfo": {
     "status": "ok",
     "timestamp": 1715415134396,
     "user_tz": -480,
     "elapsed": 23725,
     "user": {
      "displayName": "DM C",
      "userId": "17633321491189520950"
     }
    },
    "outputId": "046e58b0-51b4-46f6-ff9c-c8a538febe40",
    "ExecuteTime": {
     "end_time": "2024-05-23T05:33:59.433427Z",
     "start_time": "2024-05-23T05:33:59.208007Z"
    }
   },
   "id": "fGNGp9nQofKY",
   "outputs": [
    {
     "ename": "ModuleNotFoundError",
     "evalue": "No module named 'google.colab'",
     "output_type": "error",
     "traceback": [
      "\u001B[1;31m---------------------------------------------------------------------------\u001B[0m",
      "\u001B[1;31mModuleNotFoundError\u001B[0m                       Traceback (most recent call last)",
      "Cell \u001B[1;32mIn[1], line 1\u001B[0m\n\u001B[1;32m----> 1\u001B[0m \u001B[38;5;28;01mfrom\u001B[39;00m \u001B[38;5;21;01mgoogle\u001B[39;00m\u001B[38;5;21;01m.\u001B[39;00m\u001B[38;5;21;01mcolab\u001B[39;00m \u001B[38;5;28;01mimport\u001B[39;00m drive\n\u001B[0;32m      2\u001B[0m drive\u001B[38;5;241m.\u001B[39mmount(\u001B[38;5;124m'\u001B[39m\u001B[38;5;124m/content/drive\u001B[39m\u001B[38;5;124m'\u001B[39m)\n",
      "\u001B[1;31mModuleNotFoundError\u001B[0m: No module named 'google.colab'"
     ]
    }
   ],
   "execution_count": 1
  },
  {
   "cell_type": "code",
   "execution_count": 2,
   "id": "6b35d923-b9e9-4ea4-914a-5bf05b93a2b5",
   "metadata": {
    "ExecuteTime": {
     "end_time": "2024-05-09T06:54:08.645791Z",
     "start_time": "2024-05-09T06:54:04.049268Z"
    },
    "colab": {
     "base_uri": "https://localhost:8080/"
    },
    "id": "6b35d923-b9e9-4ea4-914a-5bf05b93a2b5",
    "executionInfo": {
     "status": "ok",
     "timestamp": 1715415147803,
     "user_tz": -480,
     "elapsed": 3696,
     "user": {
      "displayName": "DM C",
      "userId": "17633321491189520950"
     }
    },
    "outputId": "c0d43c76-dd7d-4d2b-94fc-096dad4d361c"
   },
   "outputs": [
    {
     "output_type": "stream",
     "name": "stdout",
     "text": [
      "device cuda:0\n"
     ]
    }
   ],
   "source": [
    "import os\n",
    "from tqdm import tqdm\n",
    "import pandas as pd\n",
    "import numpy as np\n",
    "import torch\n",
    "import torch.nn as nn\n",
    "import warnings\n",
    "warnings.filterwarnings(\"ignore\")\n",
    "\n",
    "device = torch.device('cuda:0' if torch.cuda.is_available() else 'cpu')\n",
    "print('device', device)"
   ]
  },
  {
   "cell_type": "code",
   "execution_count": 3,
   "id": "81f0ca03-de86-450d-a47e-6f0e7c19d97a",
   "metadata": {
    "ExecuteTime": {
     "end_time": "2024-05-09T06:54:10.244720Z",
     "start_time": "2024-05-09T06:54:10.240162Z"
    },
    "id": "81f0ca03-de86-450d-a47e-6f0e7c19d97a",
    "executionInfo": {
     "status": "ok",
     "timestamp": 1715415152992,
     "user_tz": -480,
     "elapsed": 2694,
     "user": {
      "displayName": "DM C",
      "userId": "17633321491189520950"
     }
    }
   },
   "outputs": [],
   "source": [
    "from torchvision import transforms\n",
    "\n",
    "train_transform = transforms.Compose([transforms.RandomResizedCrop(224),\n",
    "                                      transforms.RandomHorizontalFlip(),\n",
    "                                      transforms.ToTensor(),\n",
    "                                      transforms.Normalize([0.485, 0.456, 0.406], [0.229, 0.224, 0.225])\n",
    "                                     ])\n",
    "\n",
    "test_transform = transforms.Compose([transforms.Resize(256),\n",
    "                                     transforms.CenterCrop(224),\n",
    "                                     transforms.ToTensor(),\n",
    "                                     transforms.Normalize(\n",
    "                                         mean=[0.485, 0.456, 0.406],\n",
    "                                         std=[0.229, 0.224, 0.225])\n",
    "                                    ])"
   ]
  },
  {
   "cell_type": "code",
   "id": "5fd21e05-6cd0-4e06-a0f1-a029a79ddf86",
   "metadata": {
    "colab": {
     "base_uri": "https://localhost:8080/"
    },
    "id": "5fd21e05-6cd0-4e06-a0f1-a029a79ddf86",
    "executionInfo": {
     "status": "ok",
     "timestamp": 1715415159447,
     "user_tz": -480,
     "elapsed": 3562,
     "user": {
      "displayName": "DM C",
      "userId": "17633321491189520950"
     }
    },
    "outputId": "bc35062a-0df3-4deb-a553-dab63aa37a98"
   },
   "source": [
    "dataset_dir = '/content/drive/MyDrive/Colab Notebooks/train_split'\n",
    "train_path = os.path.join(dataset_dir, 'train')\n",
    "test_path = os.path.join(dataset_dir, 'val')\n",
    "\n",
    "print('训练集路径', train_path)\n",
    "print('测试集路径', test_path)\n",
    "\n",
    "from torchvision import datasets\n",
    "train_dataset = datasets.ImageFolder(train_path, train_transform)\n",
    "test_dataset = datasets.ImageFolder(test_path, test_transform)\n",
    "\n",
    "\n",
    "print('训练集图像数量', len(train_dataset))\n",
    "print('类别个数', len(train_dataset.classes))\n",
    "print('各类别名称', train_dataset.classes)\n",
    "print('测试集图像数量', len(test_dataset))\n",
    "print('类别个数', len(test_dataset.classes))\n",
    "print('各类别名称', test_dataset.classes)"
   ],
   "outputs": [],
   "execution_count": null
  },
  {
   "cell_type": "code",
   "execution_count": 5,
   "id": "0f737200-3afd-46f7-9c42-52c66829572e",
   "metadata": {
    "ExecuteTime": {
     "end_time": "2024-05-09T06:57:25.499582Z",
     "start_time": "2024-05-09T06:57:25.494304Z"
    },
    "id": "0f737200-3afd-46f7-9c42-52c66829572e",
    "executionInfo": {
     "status": "ok",
     "timestamp": 1715415161912,
     "user_tz": -480,
     "elapsed": 528,
     "user": {
      "displayName": "DM C",
      "userId": "17633321491189520950"
     }
    }
   },
   "outputs": [],
   "source": [
    "class_names = train_dataset.classes\n",
    "n_class = len(class_names)\n",
    "class_to_idx = train_dataset.class_to_idx\n",
    "class_to_idx = {k: v + 1 for k, v in class_to_idx.items()}\n",
    "idx_to_labels = {y:x for x,y in class_to_idx.items()}"
   ]
  },
  {
   "cell_type": "code",
   "execution_count": 6,
   "id": "d0baa451-a3c8-456a-a1ad-ea814dc9958c",
   "metadata": {
    "ExecuteTime": {
     "end_time": "2024-05-09T06:58:22.302739Z",
     "start_time": "2024-05-09T06:58:22.297724Z"
    },
    "colab": {
     "base_uri": "https://localhost:8080/"
    },
    "id": "d0baa451-a3c8-456a-a1ad-ea814dc9958c",
    "executionInfo": {
     "status": "ok",
     "timestamp": 1715415165112,
     "user_tz": -480,
     "elapsed": 581,
     "user": {
      "displayName": "DM C",
      "userId": "17633321491189520950"
     }
    },
    "outputId": "63e61c1e-6d15-49c3-f23f-76b770e70c76"
   },
   "outputs": [
    {
     "output_type": "execute_result",
     "data": {
      "text/plain": [
       "{'1': 1, '2': 2, '3': 3, '4': 4, '5': 5}"
      ]
     },
     "metadata": {},
     "execution_count": 6
    }
   ],
   "source": [
    "# idx_to_labels\n",
    "class_to_idx"
   ]
  },
  {
   "cell_type": "code",
   "execution_count": 7,
   "id": "eec89734-ec52-430c-a756-55faa2ce549b",
   "metadata": {
    "ExecuteTime": {
     "end_time": "2024-05-09T06:58:25.238518Z",
     "start_time": "2024-05-09T06:58:25.234277Z"
    },
    "id": "eec89734-ec52-430c-a756-55faa2ce549b",
    "executionInfo": {
     "status": "ok",
     "timestamp": 1715415167991,
     "user_tz": -480,
     "elapsed": 1549,
     "user": {
      "displayName": "DM C",
      "userId": "17633321491189520950"
     }
    }
   },
   "outputs": [],
   "source": [
    "np.save('/content/drive/MyDrive/Colab Notebooksidx_to_labels.npy', idx_to_labels)\n",
    "np.save('/content/drive/MyDrive/Colab Notebookslabels_to_idx.npy', train_dataset.class_to_idx)"
   ]
  },
  {
   "cell_type": "code",
   "execution_count": 20,
   "id": "a787702d-61c6-41af-9cbd-19bc5d3baae7",
   "metadata": {
    "ExecuteTime": {
     "end_time": "2024-05-09T06:58:41.628539Z",
     "start_time": "2024-05-09T06:58:41.624301Z"
    },
    "id": "a787702d-61c6-41af-9cbd-19bc5d3baae7",
    "executionInfo": {
     "status": "ok",
     "timestamp": 1715415725151,
     "user_tz": -480,
     "elapsed": 662,
     "user": {
      "displayName": "DM C",
      "userId": "17633321491189520950"
     }
    }
   },
   "outputs": [],
   "source": [
    "from torch.utils.data import DataLoader\n",
    "\n",
    "BATCH_SIZE = 32\n",
    "\n",
    "train_loader = DataLoader(train_dataset,\n",
    "                          batch_size=BATCH_SIZE,\n",
    "                          shuffle=True,\n",
    "                          num_workers=4\n",
    "                         )\n",
    "\n",
    "test_loader = DataLoader(test_dataset,\n",
    "                         batch_size=BATCH_SIZE,\n",
    "                         shuffle=False,\n",
    "                         num_workers=4\n",
    "                        )"
   ]
  },
  {
   "cell_type": "code",
   "execution_count": 9,
   "id": "684da643-5a88-4ba2-b49c-5dc98b35100e",
   "metadata": {
    "ExecuteTime": {
     "end_time": "2024-05-09T06:58:44.945567Z",
     "start_time": "2024-05-09T06:58:44.942035Z"
    },
    "id": "684da643-5a88-4ba2-b49c-5dc98b35100e",
    "executionInfo": {
     "status": "ok",
     "timestamp": 1715415173096,
     "user_tz": -480,
     "elapsed": 676,
     "user": {
      "displayName": "DM C",
      "userId": "17633321491189520950"
     }
    }
   },
   "outputs": [],
   "source": [
    "from torchvision import models\n",
    "import torch.optim as optim\n",
    "from torch.optim import lr_scheduler"
   ]
  },
  {
   "cell_type": "code",
   "source": [
    "model = models.resnet50(pretrained=True)"
   ],
   "metadata": {
    "colab": {
     "base_uri": "https://localhost:8080/"
    },
    "id": "a-cTPi_wbh_c",
    "executionInfo": {
     "status": "ok",
     "timestamp": 1715415178206,
     "user_tz": -480,
     "elapsed": 2062,
     "user": {
      "displayName": "DM C",
      "userId": "17633321491189520950"
     }
    },
    "outputId": "a01616a8-1a6c-4a84-a2a4-8a08e732d10b"
   },
   "id": "a-cTPi_wbh_c",
   "execution_count": 10,
   "outputs": [
    {
     "output_type": "stream",
     "name": "stderr",
     "text": [
      "Downloading: \"https://download.pytorch.org/models/resnet50-0676ba61.pth\" to /root/.cache/torch/hub/checkpoints/resnet50-0676ba61.pth\n",
      "100%|██████████| 97.8M/97.8M [00:00<00:00, 142MB/s]\n"
     ]
    }
   ]
  },
  {
   "cell_type": "code",
   "execution_count": 11,
   "id": "b1658da44a1ce2e5",
   "metadata": {
    "ExecuteTime": {
     "end_time": "2024-05-09T07:13:32.447492Z",
     "start_time": "2024-05-09T07:13:32.261771Z"
    },
    "colab": {
     "base_uri": "https://localhost:8080/"
    },
    "id": "b1658da44a1ce2e5",
    "executionInfo": {
     "status": "ok",
     "timestamp": 1715415184911,
     "user_tz": -480,
     "elapsed": 637,
     "user": {
      "displayName": "DM C",
      "userId": "17633321491189520950"
     }
    },
    "outputId": "9b97b990-7a8f-4377-f8ac-a784dddfa132"
   },
   "outputs": [
    {
     "output_type": "execute_result",
     "data": {
      "text/plain": [
       "Linear(in_features=2048, out_features=5, bias=True)"
      ]
     },
     "metadata": {},
     "execution_count": 11
    }
   ],
   "source": [
    "model.fc = nn.Linear(model.fc.in_features, n_class)\n",
    "optimizer = optim.Adam(model.fc.parameters())\n",
    "\n",
    "model = model.to(device)\n",
    "criterion = nn.CrossEntropyLoss()\n",
    "lr_scheduler = lr_scheduler.StepLR(optimizer, step_size=5, gamma=0.5)\n",
    "model.fc"
   ]
  },
  {
   "metadata": {
    "ExecuteTime": {
     "end_time": "2024-05-12T15:12:35.088610Z",
     "start_time": "2024-05-12T15:12:35.058871Z"
    }
   },
   "cell_type": "code",
   "source": [
    "# model.fc = nn.Linear(model.fc.in_features, n_class)\n",
    "# optimizer = optim.Adam(model.parameters())model = model.to(device)\n",
    "# model = model.to(device)\n",
    "# criterion = nn.CrossEntropyLoss()\n",
    "# lr_scheduler = lr_scheduler.StepLR(optimizer, step_size=5, gamma=0.5)\n",
    "# model.fc"
   ],
   "id": "b2031503de4ecc95",
   "outputs": [],
   "execution_count": 1
  },
  {
   "cell_type": "markdown",
   "id": "a36146f7-afb5-416e-a7d2-938c0fd6ab6a",
   "metadata": {
    "id": "a36146f7-afb5-416e-a7d2-938c0fd6ab6a"
   },
   "source": [
    "Train"
   ]
  },
  {
   "cell_type": "code",
   "execution_count": 12,
   "id": "a4fde230-042e-4e58-92eb-36d9febc8553",
   "metadata": {
    "ExecuteTime": {
     "end_time": "2024-05-09T07:18:14.917338Z",
     "start_time": "2024-05-09T07:18:11.205249Z"
    },
    "id": "a4fde230-042e-4e58-92eb-36d9febc8553",
    "executionInfo": {
     "status": "ok",
     "timestamp": 1715415189027,
     "user_tz": -480,
     "elapsed": 1109,
     "user": {
      "displayName": "DM C",
      "userId": "17633321491189520950"
     }
    }
   },
   "outputs": [],
   "source": [
    "from sklearn.metrics import precision_score\n",
    "from sklearn.metrics import recall_score\n",
    "from sklearn.metrics import accuracy_score\n",
    "from sklearn.metrics import f1_score"
   ]
  },
  {
   "cell_type": "code",
   "execution_count": 21,
   "id": "c6511cc9-d9d8-4c67-9aed-e1c0ac14dbcb",
   "metadata": {
    "id": "c6511cc9-d9d8-4c67-9aed-e1c0ac14dbcb",
    "executionInfo": {
     "status": "ok",
     "timestamp": 1715415771125,
     "user_tz": -480,
     "elapsed": 554,
     "user": {
      "displayName": "DM C",
      "userId": "17633321491189520950"
     }
    }
   },
   "outputs": [],
   "source": [
    "def train_one_batch(images, labels):\n",
    "    images = images.to(device)\n",
    "    labels = labels.to(device)\n",
    "\n",
    "    outputs = model(images)\n",
    "    loss = criterion(outputs, labels)\n",
    "\n",
    "    optimizer.zero_grad()\n",
    "    loss.backward()\n",
    "    optimizer.step()\n",
    "\n",
    "    _, preds = torch.max(outputs, 1)\n",
    "    preds = preds.cpu().numpy()\n",
    "    loss = loss.detach().cpu().numpy()\n",
    "    outputs = outputs.detach().cpu().numpy()\n",
    "    labels = labels.detach().cpu().numpy()\n",
    "\n",
    "    log_train = {'epoch': epoch, 'batch': batch_idx, 'train_loss': loss,\n",
    "                 'train_accuracy': accuracy_score(labels, preds),\n",
    "                 'train_precision': precision_score(labels, preds, average='macro'),\n",
    "                 'train_recall': recall_score(labels, preds, average='macro'),\n",
    "                 'train_f1-score': f1_score(labels, preds, average='macro')}\n",
    "\n",
    "    return log_train"
   ]
  },
  {
   "cell_type": "code",
   "execution_count": 22,
   "id": "709a01fc-05c8-4c4e-abca-6fcded8c838a",
   "metadata": {
    "id": "709a01fc-05c8-4c4e-abca-6fcded8c838a",
    "executionInfo": {
     "status": "ok",
     "timestamp": 1715415778177,
     "user_tz": -480,
     "elapsed": 526,
     "user": {
      "displayName": "DM C",
      "userId": "17633321491189520950"
     }
    }
   },
   "outputs": [],
   "source": [
    "def evaluate_testset():\n",
    "    loss_list = []\n",
    "    labels_list = []\n",
    "    preds_list = []\n",
    "\n",
    "    with torch.no_grad():\n",
    "        for images, labels in test_loader:\n",
    "            images = images.to(device)\n",
    "            labels = labels.to(device)\n",
    "            outputs = model(images)\n",
    "\n",
    "            _, preds = torch.max(outputs, 1)\n",
    "            preds = preds.cpu().numpy()\n",
    "            loss = criterion(outputs, labels)\n",
    "            loss = loss.detach().cpu().numpy()\n",
    "            outputs = outputs.detach().cpu().numpy()\n",
    "            labels = labels.detach().cpu().numpy()\n",
    "\n",
    "            loss_list.append(loss)\n",
    "            labels_list.extend(labels)\n",
    "            preds_list.extend(preds)\n",
    "\n",
    "    log_test = {'epoch': epoch, 'test_loss': np.mean(loss_list),\n",
    "                'test_accuracy': accuracy_score(labels_list, preds_list),\n",
    "                'test_precision': precision_score(labels_list, preds_list, average='macro'),\n",
    "                'test_recall': recall_score(labels_list, preds_list, average='macro'),\n",
    "                'test_f1-score': f1_score(labels_list, preds_list, average='macro')}\n",
    "\n",
    "    return log_test"
   ]
  },
  {
   "cell_type": "code",
   "execution_count": 23,
   "id": "fee46b5e-4175-4de2-86d3-4f6159b99dbd",
   "metadata": {
    "id": "fee46b5e-4175-4de2-86d3-4f6159b99dbd",
    "executionInfo": {
     "status": "ok",
     "timestamp": 1715415778853,
     "user_tz": -480,
     "elapsed": 4,
     "user": {
      "displayName": "DM C",
      "userId": "17633321491189520950"
     }
    }
   },
   "outputs": [],
   "source": [
    "epoch = 0\n",
    "batch_idx = 0\n",
    "best_test_accuracy = 0"
   ]
  },
  {
   "cell_type": "code",
   "execution_count": 24,
   "id": "3760c516-8301-4455-9eeb-c3eaa63ae249",
   "metadata": {
    "colab": {
     "base_uri": "https://localhost:8080/",
     "height": 118
    },
    "id": "3760c516-8301-4455-9eeb-c3eaa63ae249",
    "executionInfo": {
     "status": "ok",
     "timestamp": 1715415788180,
     "user_tz": -480,
     "elapsed": 1945,
     "user": {
      "displayName": "DM C",
      "userId": "17633321491189520950"
     }
    },
    "outputId": "04fcd2a6-0147-421c-be7a-fc5d48da9e74"
   },
   "outputs": [
    {
     "output_type": "execute_result",
     "data": {
      "text/plain": [
       "   epoch  batch train_loss  train_accuracy  train_precision  train_recall  \\\n",
       "0      0      0  0.9840063         0.71875         0.750476      0.643333   \n",
       "\n",
       "   train_f1-score  \n",
       "0        0.646909  "
      ],
      "text/html": [
       "\n",
       "  <div id=\"df-7784659a-9be7-4ea8-89eb-fe3e071e45c5\" class=\"colab-df-container\">\n",
       "    <div>\n",
       "<style scoped>\n",
       "    .dataframe tbody tr th:only-of-type {\n",
       "        vertical-align: middle;\n",
       "    }\n",
       "\n",
       "    .dataframe tbody tr th {\n",
       "        vertical-align: top;\n",
       "    }\n",
       "\n",
       "    .dataframe thead th {\n",
       "        text-align: right;\n",
       "    }\n",
       "</style>\n",
       "<table border=\"1\" class=\"dataframe\">\n",
       "  <thead>\n",
       "    <tr style=\"text-align: right;\">\n",
       "      <th></th>\n",
       "      <th>epoch</th>\n",
       "      <th>batch</th>\n",
       "      <th>train_loss</th>\n",
       "      <th>train_accuracy</th>\n",
       "      <th>train_precision</th>\n",
       "      <th>train_recall</th>\n",
       "      <th>train_f1-score</th>\n",
       "    </tr>\n",
       "  </thead>\n",
       "  <tbody>\n",
       "    <tr>\n",
       "      <th>0</th>\n",
       "      <td>0</td>\n",
       "      <td>0</td>\n",
       "      <td>0.9840063</td>\n",
       "      <td>0.71875</td>\n",
       "      <td>0.750476</td>\n",
       "      <td>0.643333</td>\n",
       "      <td>0.646909</td>\n",
       "    </tr>\n",
       "  </tbody>\n",
       "</table>\n",
       "</div>\n",
       "    <div class=\"colab-df-buttons\">\n",
       "\n",
       "  <div class=\"colab-df-container\">\n",
       "    <button class=\"colab-df-convert\" onclick=\"convertToInteractive('df-7784659a-9be7-4ea8-89eb-fe3e071e45c5')\"\n",
       "            title=\"Convert this dataframe to an interactive table.\"\n",
       "            style=\"display:none;\">\n",
       "\n",
       "  <svg xmlns=\"http://www.w3.org/2000/svg\" height=\"24px\" viewBox=\"0 -960 960 960\">\n",
       "    <path d=\"M120-120v-720h720v720H120Zm60-500h600v-160H180v160Zm220 220h160v-160H400v160Zm0 220h160v-160H400v160ZM180-400h160v-160H180v160Zm440 0h160v-160H620v160ZM180-180h160v-160H180v160Zm440 0h160v-160H620v160Z\"/>\n",
       "  </svg>\n",
       "    </button>\n",
       "\n",
       "  <style>\n",
       "    .colab-df-container {\n",
       "      display:flex;\n",
       "      gap: 12px;\n",
       "    }\n",
       "\n",
       "    .colab-df-convert {\n",
       "      background-color: #E8F0FE;\n",
       "      border: none;\n",
       "      border-radius: 50%;\n",
       "      cursor: pointer;\n",
       "      display: none;\n",
       "      fill: #1967D2;\n",
       "      height: 32px;\n",
       "      padding: 0 0 0 0;\n",
       "      width: 32px;\n",
       "    }\n",
       "\n",
       "    .colab-df-convert:hover {\n",
       "      background-color: #E2EBFA;\n",
       "      box-shadow: 0px 1px 2px rgba(60, 64, 67, 0.3), 0px 1px 3px 1px rgba(60, 64, 67, 0.15);\n",
       "      fill: #174EA6;\n",
       "    }\n",
       "\n",
       "    .colab-df-buttons div {\n",
       "      margin-bottom: 4px;\n",
       "    }\n",
       "\n",
       "    [theme=dark] .colab-df-convert {\n",
       "      background-color: #3B4455;\n",
       "      fill: #D2E3FC;\n",
       "    }\n",
       "\n",
       "    [theme=dark] .colab-df-convert:hover {\n",
       "      background-color: #434B5C;\n",
       "      box-shadow: 0px 1px 3px 1px rgba(0, 0, 0, 0.15);\n",
       "      filter: drop-shadow(0px 1px 2px rgba(0, 0, 0, 0.3));\n",
       "      fill: #FFFFFF;\n",
       "    }\n",
       "  </style>\n",
       "\n",
       "    <script>\n",
       "      const buttonEl =\n",
       "        document.querySelector('#df-7784659a-9be7-4ea8-89eb-fe3e071e45c5 button.colab-df-convert');\n",
       "      buttonEl.style.display =\n",
       "        google.colab.kernel.accessAllowed ? 'block' : 'none';\n",
       "\n",
       "      async function convertToInteractive(key) {\n",
       "        const element = document.querySelector('#df-7784659a-9be7-4ea8-89eb-fe3e071e45c5');\n",
       "        const dataTable =\n",
       "          await google.colab.kernel.invokeFunction('convertToInteractive',\n",
       "                                                    [key], {});\n",
       "        if (!dataTable) return;\n",
       "\n",
       "        const docLinkHtml = 'Like what you see? Visit the ' +\n",
       "          '<a target=\"_blank\" href=https://colab.research.google.com/notebooks/data_table.ipynb>data table notebook</a>'\n",
       "          + ' to learn more about interactive tables.';\n",
       "        element.innerHTML = '';\n",
       "        dataTable['output_type'] = 'display_data';\n",
       "        await google.colab.output.renderOutput(dataTable, element);\n",
       "        const docLink = document.createElement('div');\n",
       "        docLink.innerHTML = docLinkHtml;\n",
       "        element.appendChild(docLink);\n",
       "      }\n",
       "    </script>\n",
       "  </div>\n",
       "\n",
       "\n",
       "  <div id=\"id_c5d6a90b-04e3-4695-955e-39ac4ced9156\">\n",
       "    <style>\n",
       "      .colab-df-generate {\n",
       "        background-color: #E8F0FE;\n",
       "        border: none;\n",
       "        border-radius: 50%;\n",
       "        cursor: pointer;\n",
       "        display: none;\n",
       "        fill: #1967D2;\n",
       "        height: 32px;\n",
       "        padding: 0 0 0 0;\n",
       "        width: 32px;\n",
       "      }\n",
       "\n",
       "      .colab-df-generate:hover {\n",
       "        background-color: #E2EBFA;\n",
       "        box-shadow: 0px 1px 2px rgba(60, 64, 67, 0.3), 0px 1px 3px 1px rgba(60, 64, 67, 0.15);\n",
       "        fill: #174EA6;\n",
       "      }\n",
       "\n",
       "      [theme=dark] .colab-df-generate {\n",
       "        background-color: #3B4455;\n",
       "        fill: #D2E3FC;\n",
       "      }\n",
       "\n",
       "      [theme=dark] .colab-df-generate:hover {\n",
       "        background-color: #434B5C;\n",
       "        box-shadow: 0px 1px 3px 1px rgba(0, 0, 0, 0.15);\n",
       "        filter: drop-shadow(0px 1px 2px rgba(0, 0, 0, 0.3));\n",
       "        fill: #FFFFFF;\n",
       "      }\n",
       "    </style>\n",
       "    <button class=\"colab-df-generate\" onclick=\"generateWithVariable('df_train_log')\"\n",
       "            title=\"Generate code using this dataframe.\"\n",
       "            style=\"display:none;\">\n",
       "\n",
       "  <svg xmlns=\"http://www.w3.org/2000/svg\" height=\"24px\"viewBox=\"0 0 24 24\"\n",
       "       width=\"24px\">\n",
       "    <path d=\"M7,19H8.4L18.45,9,17,7.55,7,17.6ZM5,21V16.75L18.45,3.32a2,2,0,0,1,2.83,0l1.4,1.43a1.91,1.91,0,0,1,.58,1.4,1.91,1.91,0,0,1-.58,1.4L9.25,21ZM18.45,9,17,7.55Zm-12,3A5.31,5.31,0,0,0,4.9,8.1,5.31,5.31,0,0,0,1,6.5,5.31,5.31,0,0,0,4.9,4.9,5.31,5.31,0,0,0,6.5,1,5.31,5.31,0,0,0,8.1,4.9,5.31,5.31,0,0,0,12,6.5,5.46,5.46,0,0,0,6.5,12Z\"/>\n",
       "  </svg>\n",
       "    </button>\n",
       "    <script>\n",
       "      (() => {\n",
       "      const buttonEl =\n",
       "        document.querySelector('#id_c5d6a90b-04e3-4695-955e-39ac4ced9156 button.colab-df-generate');\n",
       "      buttonEl.style.display =\n",
       "        google.colab.kernel.accessAllowed ? 'block' : 'none';\n",
       "\n",
       "      buttonEl.onclick = () => {\n",
       "        google.colab.notebook.generateWithVariable('df_train_log');\n",
       "      }\n",
       "      })();\n",
       "    </script>\n",
       "  </div>\n",
       "\n",
       "    </div>\n",
       "  </div>\n"
      ],
      "application/vnd.google.colaboratory.intrinsic+json": {
       "type": "dataframe",
       "variable_name": "df_train_log",
       "summary": "{\n  \"name\": \"df_train_log\",\n  \"rows\": 1,\n  \"fields\": [\n    {\n      \"column\": \"epoch\",\n      \"properties\": {\n        \"dtype\": \"number\",\n        \"std\": null,\n        \"min\": 0,\n        \"max\": 0,\n        \"num_unique_values\": 1,\n        \"samples\": [\n          0\n        ],\n        \"semantic_type\": \"\",\n        \"description\": \"\"\n      }\n    },\n    {\n      \"column\": \"batch\",\n      \"properties\": {\n        \"dtype\": \"number\",\n        \"std\": null,\n        \"min\": 0,\n        \"max\": 0,\n        \"num_unique_values\": 1,\n        \"samples\": [\n          0\n        ],\n        \"semantic_type\": \"\",\n        \"description\": \"\"\n      }\n    },\n    {\n      \"column\": \"train_loss\",\n      \"properties\": {\n        \"dtype\": \"object\",\n        \"semantic_type\": \"\",\n        \"description\": \"\"\n      }\n    },\n    {\n      \"column\": \"train_accuracy\",\n      \"properties\": {\n        \"dtype\": \"number\",\n        \"std\": null,\n        \"min\": 0.71875,\n        \"max\": 0.71875,\n        \"num_unique_values\": 1,\n        \"samples\": [\n          0.71875\n        ],\n        \"semantic_type\": \"\",\n        \"description\": \"\"\n      }\n    },\n    {\n      \"column\": \"train_precision\",\n      \"properties\": {\n        \"dtype\": \"number\",\n        \"std\": null,\n        \"min\": 0.7504761904761905,\n        \"max\": 0.7504761904761905,\n        \"num_unique_values\": 1,\n        \"samples\": [\n          0.7504761904761905\n        ],\n        \"semantic_type\": \"\",\n        \"description\": \"\"\n      }\n    },\n    {\n      \"column\": \"train_recall\",\n      \"properties\": {\n        \"dtype\": \"number\",\n        \"std\": null,\n        \"min\": 0.6433333333333333,\n        \"max\": 0.6433333333333333,\n        \"num_unique_values\": 1,\n        \"samples\": [\n          0.6433333333333333\n        ],\n        \"semantic_type\": \"\",\n        \"description\": \"\"\n      }\n    },\n    {\n      \"column\": \"train_f1-score\",\n      \"properties\": {\n        \"dtype\": \"number\",\n        \"std\": null,\n        \"min\": 0.6469090909090909,\n        \"max\": 0.6469090909090909,\n        \"num_unique_values\": 1,\n        \"samples\": [\n          0.6469090909090909\n        ],\n        \"semantic_type\": \"\",\n        \"description\": \"\"\n      }\n    }\n  ]\n}"
      }
     },
     "metadata": {},
     "execution_count": 24
    }
   ],
   "source": [
    "df_train_log = pd.DataFrame()\n",
    "log_train = {'epoch': 0, 'batch': 0}\n",
    "images, labels = next(iter(train_loader))\n",
    "log_train.update(train_one_batch(images, labels))\n",
    "df_train_log = df_train_log._append(log_train, ignore_index=True)\n",
    "df_train_log"
   ]
  },
  {
   "metadata": {},
   "cell_type": "code",
   "outputs": [],
   "execution_count": null,
   "source": [
    "df_test_log = pd.DataFrame()\n",
    "log_test = {'epoch': 0}\n",
    "log_test.update(evaluate_testset())\n",
    "df_test_log = df_test_log._append(log_test, ignore_index=True)\n",
    "df_test_log"
   ],
   "id": "d4dde87a7114d649"
  },
  {
   "cell_type": "code",
   "execution_count": 25,
   "id": "3ed92ac2-cda8-40e7-8b19-b54713a5b0b8",
   "metadata": {
    "scrolled": true,
    "id": "3ed92ac2-cda8-40e7-8b19-b54713a5b0b8",
    "executionInfo": {
     "status": "ok",
     "timestamp": 1715415801971,
     "user_tz": -480,
     "elapsed": 524,
     "user": {
      "displayName": "DM C",
      "userId": "17633321491189520950"
     }
    }
   },
   "outputs": [],
   "source": [
    "epoch = 0\n",
    "batch_idx = 0\n",
    "best_test_accuracy = 0\n",
    "EPOCHS = 60"
   ]
  },
  {
   "cell_type": "code",
   "id": "a8628cfd-dd82-407f-8213-493ed1064587",
   "metadata": {
    "scrolled": true,
    "colab": {
     "base_uri": "https://localhost:8080/",
     "height": 1000
    },
    "id": "a8628cfd-dd82-407f-8213-493ed1064587",
    "executionInfo": {
     "status": "error",
     "timestamp": 1715415888064,
     "user_tz": -480,
     "elapsed": 84389,
     "user": {
      "displayName": "DM C",
      "userId": "17633321491189520950"
     }
    },
    "outputId": "050fa336-a7aa-4a01-deea-7fbe338f99d9"
   },
   "source": [
    "for epoch in range(1, EPOCHS+1):\n",
    "    print(f'Epoch {epoch}/{EPOCHS}')\n",
    "    model.train()\n",
    "\n",
    "    for images, labels in tqdm(train_loader):\n",
    "        batch_idx += 1\n",
    "        log_train = train_one_batch(images, labels)\n",
    "        df_train_log = df_train_log._append(log_train, ignore_index=True)\n",
    "\n",
    "    lr_scheduler.step()\n",
    "    model.eval()\n",
    "    log_test = evaluate_testset()\n",
    "    df_test_log = df_test_log._append(log_test, ignore_index=True)\n",
    "    \n",
    "    if log_train['train_accuracy'] > best_test_accuracy:\n",
    "        old_best_checkpoint_path = '/content/drive/MyDrive/Colab Notebooks/checkpoint/full-image-last-{:.3f}.pth'.format(best_test_accuracy)\n",
    "        if os.path.exists(old_best_checkpoint_path):\n",
    "            os.remove(old_best_checkpoint_path)\n",
    "        best_test_accuracy = log_train['train_accuracy']\n",
    "        new_best_checkpoint_path = '/content/drive/MyDrive/Colab Notebooks/checkpoint/full-image-last-{:.3f}.pth'.format(log_train['train_accuracy'])\n",
    "        torch.save(model, new_best_checkpoint_path)\n",
    "        print('保存新的最佳模型', '-{:.3f}.pth'.format(best_test_accuracy))\n",
    "\n",
    "\n",
    "df_train_log.to_csv('/content/drive/MyDrive/Colab Notebooks/训练日志-训练集.csv', index=False)\n",
    "df_test_log.to_csv('/content/drive/MyDrive/Colab Notebooks/训练日志-测试集.csv', index=False)\n",
    "model = torch.load('checkpoint/best-{:.3f}.pth'.format(best_test_accuracy))\n",
    "model = model.to(device)"
   ],
   "outputs": [],
   "execution_count": null
  },
  {
   "cell_type": "code",
   "execution_count": null,
   "id": "2238ad86-508f-4a86-affd-fa6f8016e9bb",
   "metadata": {
    "id": "2238ad86-508f-4a86-affd-fa6f8016e9bb",
    "outputId": "7acad6f7-1516-419d-f0ee-1ba5a925560f"
   },
   "outputs": [
    {
     "name": "stdout",
     "output_type": "stream",
     "text": [
      "{'epoch': 60, 'test_loss': 0.4948721, 'test_accuracy': 0.8939393939393939, 'test_precision': 0.8939098120112876, 'test_recall': 0.8850394881910433, 'test_f1-score': 0.888148931172187}\n"
     ]
    }
   ],
   "source": [
    "model.eval()\n",
    "print(evaluate_testset())"
   ]
  },
  {
   "cell_type": "code",
   "execution_count": null,
   "id": "40aa9ab1-70dc-4373-8f38-095553e9a953",
   "metadata": {
    "id": "40aa9ab1-70dc-4373-8f38-095553e9a953"
   },
   "outputs": [],
   "source": []
  }
 ],
 "metadata": {
  "kernelspec": {
   "display_name": "Python 3 (ipykernel)",
   "name": "python3",
   "language": "python"
  },
  "language_info": {
   "codemirror_mode": {
    "name": "ipython",
    "version": 3
   },
   "file_extension": ".py",
   "mimetype": "text/x-python",
   "name": "python",
   "nbconvert_exporter": "python",
   "pygments_lexer": "ipython3",
   "version": "3.8.19"
  },
  "colab": {
   "provenance": [],
   "gpuType": "A100",
   "machine_shape": "hm"
  },
  "accelerator": "GPU"
 },
 "nbformat": 4,
 "nbformat_minor": 5
}
